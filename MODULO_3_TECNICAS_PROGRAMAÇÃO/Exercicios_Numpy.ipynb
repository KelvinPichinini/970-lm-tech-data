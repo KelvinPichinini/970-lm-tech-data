{
 "cells": [
  {
   "attachments": {},
   "cell_type": "markdown",
   "metadata": {},
   "source": [
    "1-) Crie um array aleatório de 15 itens entre 0 e 100\n",
    "\n",
    "2-) Qual o maior número do array?\n",
    "\n",
    "3-) Qual a sua posição?\n",
    "\n",
    "4-) Quais números do array são maiores que 10?\n",
    "\n",
    "5-) Crie um novo array em que existam apenas elementos entre 10 e 30 (10 e 30 inclusos)"
   ]
  },
  {
   "cell_type": "code",
   "execution_count": 92,
   "metadata": {},
   "outputs": [
    {
     "name": "stdout",
     "output_type": "stream",
     "text": [
      "[21  4 25 74 74 98 32 57  8  0 73 93 80 77 58]\n",
      "maior número =  98\n",
      "índice do maior número =  [5]\n",
      "números maiors que 10:  [21 25 74 74 98 32 57 73 93 80 77 58]\n",
      "[21 25]\n"
     ]
    }
   ],
   "source": [
    "import numpy as np\n",
    "\n",
    "random_15_array = np.random.randint(0,101,15)\n",
    "maximum = random_15_array.max()\n",
    "print(random_15_array)\n",
    "print('maior número = ',maximum)\n",
    "print('índice do maior número = ',np.where(random_15_array == maximum)[0])\n",
    "print('números maiors que 10: ',random_15_array[random_15_array > 10])\n",
    "new_array = random_15_array[(random_15_array > 10) & (random_15_array < 30)]\n",
    "print(new_array)"
   ]
  },
  {
   "attachments": {},
   "cell_type": "markdown",
   "metadata": {},
   "source": [
    "Agora vamos trabalhar com matrizes.\n",
    "\n",
    "1-) Crie uma matriz (5, 2) com números igualmente espaçados entre 0 e 100 (utilize o np.linspace)\n",
    "\n",
    "2-) Qual o maior valor da matriz?\n",
    "\n",
    "3-) Qual o valor máximo por linha?\n",
    "\n",
    "4-) Qual o valor máximo por coluna?\n",
    "\n",
    "5-) Qual a média por linha?\n",
    "\n",
    "6-) Qual a média da matriz?"
   ]
  },
  {
   "cell_type": "code",
   "execution_count": 76,
   "metadata": {},
   "outputs": [
    {
     "name": "stdout",
     "output_type": "stream",
     "text": [
      "[[  0.          11.11111111]\n",
      " [ 22.22222222  33.33333333]\n",
      " [ 44.44444444  55.55555556]\n",
      " [ 66.66666667  77.77777778]\n",
      " [ 88.88888889 100.        ]]\n",
      "Maior número da matriz 100.0\n",
      "Maior nº por linha:  [ 11.11111111  33.33333333  55.55555556  77.77777778 100.        ]\n",
      "Maior nº por coluna:  [ 88.88888889 100.        ]\n",
      "Média por linha:  [ 5.55555556 27.77777778 50.         72.22222222 94.44444444]\n",
      "Média total da matriz 50.0\n"
     ]
    }
   ],
   "source": [
    "matriz_1 = np.linspace(0,100,num=10)\n",
    "matriz_1 = matriz_1.reshape(5,2)\n",
    "print(matriz_1)\n",
    "matriz_max = matriz_1.max()\n",
    "print(\"Maior número da matriz\",matriz_max)\n",
    "maximum_by_row = np.amax(matriz_1, axis=1)\n",
    "maximum_by_column = np.amax(matriz_1, axis=0)\n",
    "print(\"Maior nº por linha: \",maximum_by_row)\n",
    "print(\"Maior nº por coluna: \",maximum_by_column)\n",
    "mean_by_row = np.mean(matriz_1, axis=1)\n",
    "print(\"Média por linha: \",mean_by_row)\n",
    "print(\"Média total da matriz\",np.mean(matriz_1))"
   ]
  },
  {
   "attachments": {},
   "cell_type": "markdown",
   "metadata": {},
   "source": [
    "Imprima as dimensões (shape) dos seguintes arrays:\n",
    "\n",
    "a = np.array(2)\n",
    "\n",
    "b = np.array([1, 2, 3, 4, 5])\n",
    "\n",
    "c = np.array([[1, 2, 3], [4, 5, 6]])\n",
    "\n",
    "d = np.array([[[1, 2, 3], [4, 5, 6]], [[7, 8, 9], [10, 11, 12]]])"
   ]
  },
  {
   "cell_type": "code",
   "execution_count": 82,
   "metadata": {},
   "outputs": [
    {
     "name": "stdout",
     "output_type": "stream",
     "text": [
      "dimensoes de a:  ()\n",
      "dimensoes de b:  (5,)\n",
      "dimensoes de c:  (2, 3)\n",
      "dimensoes de d:  (2, 2, 3)\n"
     ]
    }
   ],
   "source": [
    "a = np.array(2)\n",
    "\n",
    "b = np.array([1, 2, 3, 4, 5])\n",
    "\n",
    "c = np.array([[1, 2, 3], [4, 5, 6]])\n",
    "\n",
    "d = np.array([[[1, 2, 3], [4, 5, 6]], [[7, 8, 9], [10, 11, 12]]])\n",
    "\n",
    "print('dimensoes de a: ',a.shape)\n",
    "print('dimensoes de b: ',b.shape)\n",
    "print('dimensoes de c: ',c.shape)\n",
    "print('dimensoes de d: ',d.shape)"
   ]
  },
  {
   "attachments": {},
   "cell_type": "markdown",
   "metadata": {},
   "source": [
    "Transforme o array em uma matriz 4 por 3 utilizando numpy.\n",
    "\n",
    "arr = [1, 2, 3, 4, 'Amelia, 'Bruna, 'Carolina', 'Débora', True, False, False, True]\n",
    "\n",
    "Depois, faça o mesmo para uma matriz 3 por 4."
   ]
  },
  {
   "cell_type": "code",
   "execution_count": 91,
   "metadata": {},
   "outputs": [
    {
     "name": "stdout",
     "output_type": "stream",
     "text": [
      "Transformando em 4X3\n",
      "[['1' '2' '3']\n",
      " ['4' 'Amelia' 'Bruna']\n",
      " ['Carolina' 'Débora' 'True']\n",
      " ['False' 'False' 'True']]\n",
      "Transformando em 3X4\n",
      "[['1' '2' '3' '4']\n",
      " ['Amelia' 'Bruna' 'Carolina' 'Débora']\n",
      " ['True' 'False' 'False' 'True']]\n"
     ]
    }
   ],
   "source": [
    "arr = np.asarray([1, 2, 3, 4, 'Amelia', 'Bruna', 'Carolina', 'Débora', True, False, False, True])\n",
    "print('Transformando em 4X3')\n",
    "arr = arr.reshape(4,3)\n",
    "print(arr)\n",
    "print('Transformando em 3X4')\n",
    "arr = arr.reshape(12,).reshape(3,4)\n",
    "print(arr)\n"
   ]
  },
  {
   "attachments": {},
   "cell_type": "markdown",
   "metadata": {},
   "source": [
    "Crie um array com 40 números aleatórios, distribuídos uniformemente, entre [0, 5).\n",
    "\n",
    "Para cada elemento do array, calcule:\n",
    "\n",
    "Seno\n",
    "Cosseno\n",
    "Log na base 2"
   ]
  },
  {
   "cell_type": "code",
   "execution_count": 104,
   "metadata": {},
   "outputs": [
    {
     "name": "stdout",
     "output_type": "stream",
     "text": [
      "[0.    0.125 0.25  0.375 0.5   0.625 0.75  0.875 1.    1.125 1.25  1.375\n",
      " 1.5   1.625 1.75  1.875 2.    2.125 2.25  2.375 2.5   2.625 2.75  2.875\n",
      " 3.    3.125 3.25  3.375 3.5   3.625 3.75  3.875 4.    4.125 4.25  4.375\n",
      " 4.5   4.625 4.75  4.875]\n",
      "SENOS: [ 0.          0.12467473  0.24740396  0.36627253  0.47942554  0.58509727\n",
      "  0.68163876  0.7675435   0.84147098  0.90226759  0.94898462  0.98089306\n",
      "  0.99749499  0.99853134  0.98398595  0.95408578  0.90929743  0.85031979\n",
      "  0.7780732   0.69368503  0.59847214  0.4939203   0.38166099  0.26344599\n",
      "  0.14112001  0.01659189 -0.10819513 -0.23129381 -0.35078323 -0.46479879\n",
      " -0.57156132 -0.66940483 -0.7568025  -0.83239051 -0.89498936 -0.94362219\n",
      " -0.97753012 -0.99618401 -0.99929279 -0.98680794]\n",
      "COSSENOS: [ 1.          0.99219767  0.96891242  0.93050762  0.87758256  0.81096312\n",
      "  0.73168887  0.64099686  0.54030231  0.43117652  0.31532236  0.19454771\n",
      "  0.0707372  -0.05417714 -0.17824606 -0.29953351 -0.41614684 -0.52626633\n",
      " -0.62817362 -0.72027847 -0.80114362 -0.86950718 -0.92430238 -0.96467415\n",
      " -0.9899925  -0.99986235 -0.99412968 -0.97288395 -0.93645669 -0.88541634\n",
      " -0.82055936 -0.74289783 -0.65364362 -0.55418953 -0.44608749 -0.33102441\n",
      " -0.2107958  -0.08727779  0.03760215  0.16189533]\n",
      "LOG BASE 2: [       -inf -3.         -2.         -1.4150375  -1.         -0.67807191\n",
      " -0.4150375  -0.19264508  0.          0.169925    0.32192809  0.45943162\n",
      "  0.5849625   0.70043972  0.80735492  0.9068906   1.          1.08746284\n",
      "  1.169925    1.24792751  1.32192809  1.39231742  1.45943162  1.52356196\n",
      "  1.5849625   1.64385619  1.70043972  1.7548875   1.80735492  1.857981\n",
      "  1.9068906   1.95419631  2.          2.04439412  2.08746284  2.12928302\n",
      "  2.169925    2.20945337  2.24792751  2.28540222]\n"
     ]
    },
    {
     "name": "stderr",
     "output_type": "stream",
     "text": [
      "C:\\Users\\Kelvin\\AppData\\Local\\Temp\\ipykernel_10612\\1557388269.py:6: RuntimeWarning: divide by zero encountered in log2\n",
      "  print('LOG BASE 2:',np.log2(random_40_array))\n"
     ]
    }
   ],
   "source": [
    "random_40_array = np.linspace(0,5,40,False)\n",
    "print(random_40_array)\n",
    "\n",
    "print('SENOS:',np.sin(random_40_array))\n",
    "print('COSSENOS:',np.cos(random_40_array))\n",
    "print('LOG BASE 2:',np.log2(random_40_array))"
   ]
  }
 ],
 "metadata": {
  "kernelspec": {
   "display_name": "base",
   "language": "python",
   "name": "python3"
  },
  "language_info": {
   "codemirror_mode": {
    "name": "ipython",
    "version": 3
   },
   "file_extension": ".py",
   "mimetype": "text/x-python",
   "name": "python",
   "nbconvert_exporter": "python",
   "pygments_lexer": "ipython3",
   "version": "3.9.13"
  },
  "orig_nbformat": 4
 },
 "nbformat": 4,
 "nbformat_minor": 2
}
